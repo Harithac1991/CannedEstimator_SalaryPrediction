{
 "cells": [
  {
   "cell_type": "markdown",
   "metadata": {},
   "source": [
    "# Prediction of salary class using Canned estimators with Tensorflow"
   ]
  },
  {
   "cell_type": "code",
   "execution_count": 1,
   "metadata": {},
   "outputs": [],
   "source": [
    "import pandas as pd\n",
    "import numpy as np\n",
    "import tensorflow as tf"
   ]
  },
  {
   "cell_type": "code",
   "execution_count": 2,
   "metadata": {},
   "outputs": [
    {
     "name": "stdout",
     "output_type": "stream",
     "text": [
      "Tensorflow version is :  1.10.0\n"
     ]
    }
   ],
   "source": [
    "print(\"Tensorflow version is : \", tf.__version__)"
   ]
  },
  {
   "cell_type": "markdown",
   "metadata": {},
   "source": [
    "#### fetching Train and test Data"
   ]
  },
  {
   "cell_type": "code",
   "execution_count": 19,
   "metadata": {},
   "outputs": [],
   "source": [
    "census_train_url = 'https://archive.ics.uci.edu/ml/machine-learning-databases/adult/adult.data'\n",
    "census_test_url = 'https://archive.ics.uci.edu/ml/machine-learning-databases/adult/adult.test'"
   ]
  },
  {
   "cell_type": "code",
   "execution_count": 109,
   "metadata": {},
   "outputs": [],
   "source": [
    "census_train_path = tf.contrib.keras.utils.get_file(\"census_train\", census_train_url)\n",
    "census_test_path = tf.contrib.keras.utils.get_file(\"census_test\", census_test_url)"
   ]
  },
  {
   "cell_type": "code",
   "execution_count": 110,
   "metadata": {},
   "outputs": [],
   "source": [
    "column_names= ['age', 'workclass', 'fnlwgt', 'education', 'education-num',\n",
    "  'marital-status', 'occupation', 'relationship', 'race', 'gender',\n",
    "  'capital-gain', 'capital-loss', 'hours-per-week', 'native-country',\n",
    "  'income']"
   ]
  },
  {
   "cell_type": "code",
   "execution_count": 111,
   "metadata": {},
   "outputs": [],
   "source": [
    "census_train =pd.read_csv(census_train_path, names = column_names, index_col = False)\n",
    "census_test =pd.read_csv(census_test_path, names = column_names, index_col = False, skiprows = 1)\n"
   ]
  },
  {
   "cell_type": "markdown",
   "metadata": {},
   "source": [
    "##### Drop missing rows"
   ]
  },
  {
   "cell_type": "code",
   "execution_count": 112,
   "metadata": {},
   "outputs": [],
   "source": [
    "census_train = census_train.dropna(how = \"any\", axis = 0)\n",
    "census_test = census_test.dropna(how = \"any\", axis = 0)"
   ]
  },
  {
   "cell_type": "code",
   "execution_count": 113,
   "metadata": {},
   "outputs": [
    {
     "data": {
      "text/plain": [
       "Counter({'age': 1,\n",
       "         'workclass': 1,\n",
       "         'fnlwgt': 1,\n",
       "         'education': 1,\n",
       "         'education-num': 1,\n",
       "         'marital-status': 1,\n",
       "         'occupation': 1,\n",
       "         'relationship': 1,\n",
       "         'race': 1,\n",
       "         'gender': 1,\n",
       "         'capital-gain': 1,\n",
       "         'capital-loss': 1,\n",
       "         'hours-per-week': 1,\n",
       "         'native-country': 1,\n",
       "         'income': 1})"
      ]
     },
     "execution_count": 113,
     "metadata": {},
     "output_type": "execute_result"
    }
   ],
   "source": [
    "from collections import Counter \n",
    "Counter (census_train)"
   ]
  },
  {
   "cell_type": "code",
   "execution_count": 114,
   "metadata": {},
   "outputs": [
    {
     "data": {
      "text/plain": [
       "Counter({' <=50K': 24720, ' >50K': 7841})"
      ]
     },
     "execution_count": 114,
     "metadata": {},
     "output_type": "execute_result"
    }
   ],
   "source": [
    "Counter(census_train.income)"
   ]
  },
  {
   "cell_type": "code",
   "execution_count": 115,
   "metadata": {},
   "outputs": [],
   "source": [
    "census_train_label= census_train.pop(\"income\").apply(lambda x: \">50K\" in x)\n",
    "census_test_label= census_test.pop(\"income\").apply(lambda x: \">50K\" in x)\n"
   ]
  },
  {
   "cell_type": "code",
   "execution_count": 116,
   "metadata": {},
   "outputs": [
    {
     "name": "stdout",
     "output_type": "stream",
     "text": [
      "Counter({False: 24720, True: 7841})\n",
      "Counter({False: 12435, True: 3846})\n"
     ]
    }
   ],
   "source": [
    "print(Counter(census_train_label))\n",
    "print(Counter(census_test_label))"
   ]
  },
  {
   "cell_type": "markdown",
   "metadata": {},
   "source": [
    "#### Define train and test imput functions"
   ]
  },
  {
   "cell_type": "code",
   "execution_count": 117,
   "metadata": {},
   "outputs": [],
   "source": [
    "def create_train_input_fn():\n",
    "    return (tf.estimator.inputs.pandas_input_fn(x=census_train,\n",
    "                                                y=census_train_label,\n",
    "                                               batch_size=32,\n",
    "                                               num_epochs= None, # loop forever until estimator finish training\n",
    "                                                                 # till it stops asking for batches\n",
    "                                               shuffle= True))"
   ]
  },
  {
   "cell_type": "code",
   "execution_count": 118,
   "metadata": {},
   "outputs": [],
   "source": [
    "def create_test_input_fn():\n",
    "    return(tf.estimator.inputs.pandas_input_fn(x=census_test,\n",
    "                                              y=census_test_label,\n",
    "                                              batch_size=32,\n",
    "                                              num_epochs=1, # we want outputs for each sample test\n",
    "                                              shuffle= False)) # Do not shuffle. We need to compare pred and y test labels"
   ]
  },
  {
   "cell_type": "markdown",
   "metadata": {},
   "source": [
    "##### feature Engineering"
   ]
  },
  {
   "cell_type": "markdown",
   "metadata": {},
   "source": [
    "Now we'll specify the features we'll use and how we'd like them represented.Here are five different types we'll use in our Linear model:\n"
   ]
  },
  {
   "cell_type": "markdown",
   "metadata": {},
   "source": [
    "\n",
    "* A numeric_column. This is just a real-valued attribute.\n",
    "* A bucketized_column. TensorFlow automatically buckets a numeric column for us.\n",
    "* A categorical_column_with_vocabulary_list. This is just a categorical column, where you know the possible values in advance. This is useful when you have a small number of possibilities.\n",
    "* A categorical_column_with_hash_bucket. This is a useful way to represent categorical features when you have a large number of values. Beware of hash collisions.\n",
    "* A crossed_column. Linear models cannot consider interactions between features, so we'll ask TensorFlow to cross features for us.\n",
    "\n",
    "In the Deep model, we'll also use:\n",
    "\n",
    "* An embedding column(!). This automatically creates an embedding for categorical data."
   ]
  },
  {
   "cell_type": "code",
   "execution_count": 119,
   "metadata": {},
   "outputs": [
    {
     "data": {
      "text/plain": [
       "[_NumericColumn(key='age', shape=(1,), default_value=None, dtype=tf.float32, normalizer_fn=None),\n",
       " _BucketizedColumn(source_column=_NumericColumn(key='age', shape=(1,), default_value=None, dtype=tf.float32, normalizer_fn=None), boundaries=(31, 46, 60, 75, 90))]"
      ]
     },
     "execution_count": 119,
     "metadata": {},
     "output_type": "execute_result"
    }
   ],
   "source": [
    "feature_columns = []\n",
    "#numeric column\n",
    "age =  tf.feature_column.numeric_column(\"age\")\n",
    "feature_columns.append(age)\n",
    "#bucketize the numerical column\n",
    "age_buckets= tf.feature_column.bucketized_column(tf.feature_column.numeric_column(\"age\"),boundaries=[31,46,60,75,90])\n",
    "feature_columns.append(age_buckets)\n",
    "feature_columns"
   ]
  },
  {
   "cell_type": "code",
   "execution_count": 120,
   "metadata": {},
   "outputs": [],
   "source": [
    "#categorical column with vocabulary list\n",
    "education = tf.feature_column.categorical_column_with_vocabulary_list(\"education\",[\"Bachelors\", \"HS-grad\", \"11th\", \"Masters\", \"9th\",\n",
    "        \"Some-college\", \"Assoc-acdm\", \"Assoc-voc\", \"7th-8th\",\n",
    "        \"Doctorate\", \"Prof-school\", \"5th-6th\", \"10th\", \"1st-4th\",\n",
    "        \"Preschool\", \"12th\"])\n",
    "feature_columns.append(education)"
   ]
  },
  {
   "cell_type": "code",
   "execution_count": 121,
   "metadata": {},
   "outputs": [],
   "source": [
    "#for a cat column if vocab can't be specified in advanc, (i.e. 1000 categories ) hashing is a better approach\n",
    "native_country = tf.feature_column.categorical_column_with_hash_bucket(\"native-country\",1000)\n",
    "feature_columns.append(native_country)"
   ]
  },
  {
   "cell_type": "code",
   "execution_count": 122,
   "metadata": {},
   "outputs": [
    {
     "data": {
      "text/plain": [
       "_HashedCategoricalColumn(key='native-country', hash_bucket_size=1000, dtype=tf.string)"
      ]
     },
     "execution_count": 122,
     "metadata": {},
     "output_type": "execute_result"
    }
   ],
   "source": [
    "native_country"
   ]
  },
  {
   "cell_type": "code",
   "execution_count": 123,
   "metadata": {},
   "outputs": [],
   "source": [
    "#cross column feature creation\n",
    "age_cross_function = tf.feature_column.crossed_column([age_buckets,education],hash_bucket_size=int(1e4))\n",
    "feature_columns.append(age_cross_function)"
   ]
  },
  {
   "cell_type": "markdown",
   "metadata": {},
   "source": [
    "##### Train an canned linear estimator"
   ]
  },
  {
   "cell_type": "code",
   "execution_count": 124,
   "metadata": {},
   "outputs": [
    {
     "data": {
      "text/html": [
       "<div>\n",
       "<style scoped>\n",
       "    .dataframe tbody tr th:only-of-type {\n",
       "        vertical-align: middle;\n",
       "    }\n",
       "\n",
       "    .dataframe tbody tr th {\n",
       "        vertical-align: top;\n",
       "    }\n",
       "\n",
       "    .dataframe thead th {\n",
       "        text-align: right;\n",
       "    }\n",
       "</style>\n",
       "<table border=\"1\" class=\"dataframe\">\n",
       "  <thead>\n",
       "    <tr style=\"text-align: right;\">\n",
       "      <th></th>\n",
       "      <th>age</th>\n",
       "      <th>workclass</th>\n",
       "      <th>fnlwgt</th>\n",
       "      <th>education</th>\n",
       "      <th>education-num</th>\n",
       "      <th>marital-status</th>\n",
       "      <th>occupation</th>\n",
       "      <th>relationship</th>\n",
       "      <th>race</th>\n",
       "      <th>gender</th>\n",
       "      <th>capital-gain</th>\n",
       "      <th>capital-loss</th>\n",
       "      <th>hours-per-week</th>\n",
       "      <th>native-country</th>\n",
       "    </tr>\n",
       "  </thead>\n",
       "  <tbody>\n",
       "    <tr>\n",
       "      <th>0</th>\n",
       "      <td>39</td>\n",
       "      <td>State-gov</td>\n",
       "      <td>77516</td>\n",
       "      <td>Bachelors</td>\n",
       "      <td>13</td>\n",
       "      <td>Never-married</td>\n",
       "      <td>Adm-clerical</td>\n",
       "      <td>Not-in-family</td>\n",
       "      <td>White</td>\n",
       "      <td>Male</td>\n",
       "      <td>2174</td>\n",
       "      <td>0</td>\n",
       "      <td>40</td>\n",
       "      <td>United-States</td>\n",
       "    </tr>\n",
       "    <tr>\n",
       "      <th>1</th>\n",
       "      <td>50</td>\n",
       "      <td>Self-emp-not-inc</td>\n",
       "      <td>83311</td>\n",
       "      <td>Bachelors</td>\n",
       "      <td>13</td>\n",
       "      <td>Married-civ-spouse</td>\n",
       "      <td>Exec-managerial</td>\n",
       "      <td>Husband</td>\n",
       "      <td>White</td>\n",
       "      <td>Male</td>\n",
       "      <td>0</td>\n",
       "      <td>0</td>\n",
       "      <td>13</td>\n",
       "      <td>United-States</td>\n",
       "    </tr>\n",
       "    <tr>\n",
       "      <th>2</th>\n",
       "      <td>38</td>\n",
       "      <td>Private</td>\n",
       "      <td>215646</td>\n",
       "      <td>HS-grad</td>\n",
       "      <td>9</td>\n",
       "      <td>Divorced</td>\n",
       "      <td>Handlers-cleaners</td>\n",
       "      <td>Not-in-family</td>\n",
       "      <td>White</td>\n",
       "      <td>Male</td>\n",
       "      <td>0</td>\n",
       "      <td>0</td>\n",
       "      <td>40</td>\n",
       "      <td>United-States</td>\n",
       "    </tr>\n",
       "    <tr>\n",
       "      <th>3</th>\n",
       "      <td>53</td>\n",
       "      <td>Private</td>\n",
       "      <td>234721</td>\n",
       "      <td>11th</td>\n",
       "      <td>7</td>\n",
       "      <td>Married-civ-spouse</td>\n",
       "      <td>Handlers-cleaners</td>\n",
       "      <td>Husband</td>\n",
       "      <td>Black</td>\n",
       "      <td>Male</td>\n",
       "      <td>0</td>\n",
       "      <td>0</td>\n",
       "      <td>40</td>\n",
       "      <td>United-States</td>\n",
       "    </tr>\n",
       "    <tr>\n",
       "      <th>4</th>\n",
       "      <td>28</td>\n",
       "      <td>Private</td>\n",
       "      <td>338409</td>\n",
       "      <td>Bachelors</td>\n",
       "      <td>13</td>\n",
       "      <td>Married-civ-spouse</td>\n",
       "      <td>Prof-specialty</td>\n",
       "      <td>Wife</td>\n",
       "      <td>Black</td>\n",
       "      <td>Female</td>\n",
       "      <td>0</td>\n",
       "      <td>0</td>\n",
       "      <td>40</td>\n",
       "      <td>Cuba</td>\n",
       "    </tr>\n",
       "  </tbody>\n",
       "</table>\n",
       "</div>"
      ],
      "text/plain": [
       "   age          workclass  fnlwgt   education  education-num  \\\n",
       "0   39          State-gov   77516   Bachelors             13   \n",
       "1   50   Self-emp-not-inc   83311   Bachelors             13   \n",
       "2   38            Private  215646     HS-grad              9   \n",
       "3   53            Private  234721        11th              7   \n",
       "4   28            Private  338409   Bachelors             13   \n",
       "\n",
       "        marital-status          occupation    relationship    race   gender  \\\n",
       "0        Never-married        Adm-clerical   Not-in-family   White     Male   \n",
       "1   Married-civ-spouse     Exec-managerial         Husband   White     Male   \n",
       "2             Divorced   Handlers-cleaners   Not-in-family   White     Male   \n",
       "3   Married-civ-spouse   Handlers-cleaners         Husband   Black     Male   \n",
       "4   Married-civ-spouse      Prof-specialty            Wife   Black   Female   \n",
       "\n",
       "   capital-gain  capital-loss  hours-per-week  native-country  \n",
       "0          2174             0              40   United-States  \n",
       "1             0             0              13   United-States  \n",
       "2             0             0              40   United-States  \n",
       "3             0             0              40   United-States  \n",
       "4             0             0              40            Cuba  "
      ]
     },
     "execution_count": 124,
     "metadata": {},
     "output_type": "execute_result"
    }
   ],
   "source": [
    "census_train.head()"
   ]
  },
  {
   "cell_type": "code",
   "execution_count": 125,
   "metadata": {},
   "outputs": [
    {
     "data": {
      "text/plain": [
       "[_NumericColumn(key='age', shape=(1,), default_value=None, dtype=tf.float32, normalizer_fn=None),\n",
       " _BucketizedColumn(source_column=_NumericColumn(key='age', shape=(1,), default_value=None, dtype=tf.float32, normalizer_fn=None), boundaries=(31, 46, 60, 75, 90)),\n",
       " _VocabularyListCategoricalColumn(key='education', vocabulary_list=('Bachelors', 'HS-grad', '11th', 'Masters', '9th', 'Some-college', 'Assoc-acdm', 'Assoc-voc', '7th-8th', 'Doctorate', 'Prof-school', '5th-6th', '10th', '1st-4th', 'Preschool', '12th'), dtype=tf.string, default_value=-1, num_oov_buckets=0),\n",
       " _HashedCategoricalColumn(key='native-country', hash_bucket_size=1000, dtype=tf.string),\n",
       " _CrossedColumn(keys=(_BucketizedColumn(source_column=_NumericColumn(key='age', shape=(1,), default_value=None, dtype=tf.float32, normalizer_fn=None), boundaries=(31, 46, 60, 75, 90)), _VocabularyListCategoricalColumn(key='education', vocabulary_list=('Bachelors', 'HS-grad', '11th', 'Masters', '9th', 'Some-college', 'Assoc-acdm', 'Assoc-voc', '7th-8th', 'Doctorate', 'Prof-school', '5th-6th', '10th', '1st-4th', 'Preschool', '12th'), dtype=tf.string, default_value=-1, num_oov_buckets=0)), hash_bucket_size=10000, hash_key=None)]"
      ]
     },
     "execution_count": 125,
     "metadata": {},
     "output_type": "execute_result"
    }
   ],
   "source": [
    "feature_columns"
   ]
  },
  {
   "cell_type": "code",
   "execution_count": 126,
   "metadata": {},
   "outputs": [
    {
     "name": "stdout",
     "output_type": "stream",
     "text": [
      "INFO:tensorflow:Using default config.\n",
      "INFO:tensorflow:Using config: {'_model_dir': 'graphs/linear', '_tf_random_seed': None, '_save_summary_steps': 100, '_save_checkpoints_steps': None, '_save_checkpoints_secs': 600, '_session_config': None, '_keep_checkpoint_max': 5, '_keep_checkpoint_every_n_hours': 10000, '_log_step_count_steps': 100, '_train_distribute': None, '_device_fn': None, '_service': None, '_cluster_spec': <tensorflow.python.training.server_lib.ClusterSpec object at 0x00000231A11C03C8>, '_task_type': 'worker', '_task_id': 0, '_global_id_in_cluster': 0, '_master': '', '_evaluation_master': '', '_is_chief': True, '_num_ps_replicas': 0, '_num_worker_replicas': 1}\n",
      "INFO:tensorflow:Calling model_fn.\n",
      "INFO:tensorflow:Done calling model_fn.\n",
      "INFO:tensorflow:Create CheckpointSaverHook.\n",
      "INFO:tensorflow:Graph was finalized.\n",
      "INFO:tensorflow:Running local_init_op.\n",
      "INFO:tensorflow:Done running local_init_op.\n",
      "INFO:tensorflow:Saving checkpoints for 0 into graphs/linear\\model.ckpt.\n",
      "INFO:tensorflow:loss = 22.18071, step = 1\n",
      "INFO:tensorflow:global_step/sec: 142.247\n",
      "INFO:tensorflow:loss = 8.759435, step = 101 (0.719 sec)\n",
      "INFO:tensorflow:global_step/sec: 212.313\n",
      "INFO:tensorflow:loss = 12.854465, step = 201 (0.462 sec)\n",
      "INFO:tensorflow:global_step/sec: 228.048\n",
      "INFO:tensorflow:loss = 19.393991, step = 301 (0.440 sec)\n",
      "INFO:tensorflow:global_step/sec: 212.539\n",
      "INFO:tensorflow:loss = 18.522484, step = 401 (0.470 sec)\n",
      "INFO:tensorflow:global_step/sec: 228.309\n",
      "INFO:tensorflow:loss = 13.263519, step = 501 (0.452 sec)\n",
      "INFO:tensorflow:Saving checkpoints for 509 into graphs/linear\\model.ckpt.\n",
      "INFO:tensorflow:Loss for final step: 12.771282.\n"
     ]
    },
    {
     "data": {
      "text/plain": [
       "<tensorflow.python.estimator.canned.linear.LinearClassifier at 0x231a1153e48>"
      ]
     },
     "execution_count": 126,
     "metadata": {},
     "output_type": "execute_result"
    }
   ],
   "source": [
    "train_input_fn = create_test_input_fn()\n",
    "estimator = tf.estimator.LinearClassifier(feature_columns, n_classes=2,model_dir='graphs/linear')\n",
    "estimator.train(train_input_fn,steps =1000) # 1000 epochs"
   ]
  },
  {
   "cell_type": "markdown",
   "metadata": {},
   "source": [
    "##### evaluation of model on test data"
   ]
  },
  {
   "cell_type": "code",
   "execution_count": 127,
   "metadata": {},
   "outputs": [
    {
     "name": "stdout",
     "output_type": "stream",
     "text": [
      "INFO:tensorflow:Calling model_fn.\n",
      "WARNING:tensorflow:Trapezoidal rule is known to produce incorrect PR-AUCs; please switch to \"careful_interpolation\" instead.\n",
      "WARNING:tensorflow:Trapezoidal rule is known to produce incorrect PR-AUCs; please switch to \"careful_interpolation\" instead.\n",
      "INFO:tensorflow:Done calling model_fn.\n",
      "INFO:tensorflow:Starting evaluation at 2019-02-11-07:30:24\n",
      "INFO:tensorflow:Graph was finalized.\n",
      "INFO:tensorflow:Restoring parameters from graphs/linear\\model.ckpt-509\n",
      "INFO:tensorflow:Running local_init_op.\n",
      "INFO:tensorflow:Done running local_init_op.\n",
      "INFO:tensorflow:Finished evaluation at 2019-02-11-07:30:27\n",
      "INFO:tensorflow:Saving dict for global step 509: accuracy = 0.76377374, accuracy_baseline = 0.76377374, auc = 0.68360966, auc_precision_recall = 0.36514795, average_loss = 0.5093252, global_step = 509, label/mean = 0.23622628, loss = 16.2914, precision = 0.0, prediction/mean = 0.16753425, recall = 0.0\n",
      "INFO:tensorflow:Saving 'checkpoint_path' summary for global step 509: graphs/linear\\model.ckpt-509\n"
     ]
    },
    {
     "data": {
      "text/plain": [
       "{'accuracy': 0.76377374,\n",
       " 'accuracy_baseline': 0.76377374,\n",
       " 'auc': 0.68360966,\n",
       " 'auc_precision_recall': 0.36514795,\n",
       " 'average_loss': 0.5093252,\n",
       " 'label/mean': 0.23622628,\n",
       " 'loss': 16.2914,\n",
       " 'precision': 0.0,\n",
       " 'prediction/mean': 0.16753425,\n",
       " 'recall': 0.0,\n",
       " 'global_step': 509}"
      ]
     },
     "execution_count": 127,
     "metadata": {},
     "output_type": "execute_result"
    }
   ],
   "source": [
    "test_input_fn = create_test_input_fn()\n",
    "estimator.evaluate(test_input_fn)"
   ]
  },
  {
   "cell_type": "markdown",
   "metadata": {},
   "source": [
    "##### How to get predictions for individual samples"
   ]
  },
  {
   "cell_type": "code",
   "execution_count": 137,
   "metadata": {},
   "outputs": [
    {
     "name": "stdout",
     "output_type": "stream",
     "text": [
      "INFO:tensorflow:Calling model_fn.\n",
      "INFO:tensorflow:Done calling model_fn.\n",
      "INFO:tensorflow:Graph was finalized.\n",
      "INFO:tensorflow:Restoring parameters from graphs/linear\\model.ckpt-509\n",
      "INFO:tensorflow:Running local_init_op.\n",
      "INFO:tensorflow:Done running local_init_op.\n",
      "Example 0. Actual: 0, Predicted: 0\n",
      "Example 1. Actual: 0, Predicted: 0\n",
      "Example 2. Actual: 1, Predicted: 0\n",
      "Example 3. Actual: 1, Predicted: 0\n",
      "Example 4. Actual: 0, Predicted: 0\n"
     ]
    }
   ],
   "source": [
    "test_input_fn = create_test_input_fn()\n",
    "predictions = estimator.predict(test_input_fn)\n",
    "\n",
    "i = 0\n",
    "for pred in predictions:\n",
    "    true_label = census_test_label[i]\n",
    "    pred_label = pred[\"class_ids\"][0]\n",
    "    print(\"Example %d. Actual: %d, Predicted: %d\" % (i, true_label, pred_label))\n",
    "    i += 1\n",
    "    if i == 5: break"
   ]
  },
  {
   "cell_type": "markdown",
   "metadata": {},
   "source": [
    "model performance :"
   ]
  },
  {
   "cell_type": "markdown",
   "metadata": {},
   "source": [
    "accuracy = 0.76377374, accuracy_baseline = 0.76377374, auc = 0.68360966, auc_precision_recall = 0.36514795, average_loss = 0.5093252, global_step = 509, label/mean = 0.23622628, loss = 16.2914, precision = 0.0, prediction/mean = 0.16753425, recall = 0.0"
   ]
  },
  {
   "cell_type": "markdown",
   "metadata": {},
   "source": [
    "### improve model performance, Train a deep network"
   ]
  },
  {
   "cell_type": "code",
   "execution_count": 139,
   "metadata": {},
   "outputs": [
    {
     "data": {
      "text/plain": [
       "Index(['age', 'workclass', 'fnlwgt', 'education', 'education-num',\n",
       "       'marital-status', 'occupation', 'relationship', 'race', 'gender',\n",
       "       'capital-gain', 'capital-loss', 'hours-per-week', 'native-country'],\n",
       "      dtype='object')"
      ]
     },
     "execution_count": 139,
     "metadata": {},
     "output_type": "execute_result"
    }
   ],
   "source": [
    "census_train.columns"
   ]
  },
  {
   "cell_type": "code",
   "execution_count": 143,
   "metadata": {},
   "outputs": [
    {
     "data": {
      "text/plain": [
       "dict_keys([' State-gov', ' Self-emp-not-inc', ' Private', ' Federal-gov', ' Local-gov', ' ?', ' Self-emp-inc', ' Without-pay', ' Never-worked'])"
      ]
     },
     "execution_count": 143,
     "metadata": {},
     "output_type": "execute_result"
    }
   ],
   "source": [
    "Counter(census_train[\"workclass\"]).keys()"
   ]
  },
  {
   "cell_type": "code",
   "execution_count": 144,
   "metadata": {},
   "outputs": [],
   "source": [
    "# We'll provide vocabulary lists for features with just a few terms\n",
    "workclass = tf.feature_column.categorical_column_with_vocabulary_list(\n",
    "    'workclass',\n",
    "    [' Self-emp-not-inc', ' Private', ' State-gov', ' Federal-gov',\n",
    "     ' Local-gov', ' ?', ' Self-emp-inc', ' Without-pay', ' Never-worked'])\n",
    "\n",
    "education = tf.feature_column.categorical_column_with_vocabulary_list(\n",
    "    'education',\n",
    "    [' Bachelors', ' HS-grad', ' 11th', ' Masters', ' 9th', ' Some-college',\n",
    "     ' Assoc-acdm', ' Assoc-voc', ' 7th-8th', ' Doctorate', ' Prof-school',\n",
    "     ' 5th-6th', ' 10th', ' 1st-4th', ' Preschool', ' 12th'])\n",
    "\n",
    "marital_status = tf.feature_column.categorical_column_with_vocabulary_list(\n",
    "    'marital-status',\n",
    "    [' Married-civ-spouse', ' Divorced', ' Married-spouse-absent',\n",
    "     ' Never-married', ' Separated', ' Married-AF-spouse', ' Widowed'])\n",
    "     \n",
    "relationship = tf.feature_column.categorical_column_with_vocabulary_list(\n",
    "    'relationship',\n",
    "    [' Husband', ' Not-in-family', ' Wife', ' Own-child', ' Unmarried',\n",
    "     ' Other-relative'])"
   ]
  },
  {
   "cell_type": "code",
   "execution_count": 146,
   "metadata": {},
   "outputs": [],
   "source": [
    "feature_columns = [\n",
    "    #indicator matrix for dimensional vocabularies\n",
    "    tf.feature_column.indicator_column(workclass),\n",
    "    tf.feature_column.indicator_column(education),\n",
    "    tf.feature_column.indicator_column(marital_status),\n",
    "    tf.feature_column.indicator_column(relationship),\n",
    "    \n",
    "    #embeddings for high dimensional vocabularies\n",
    "    tf.feature_column.embedding_column(\n",
    "    tf.feature_column.categorical_column_with_hash_bucket(\"occupation\", 1000),10),\n",
    "    \n",
    "    # numeric features\n",
    "    tf.feature_column.numeric_column('age'),\n",
    "    tf.feature_column.numeric_column('education-num'),\n",
    "    tf.feature_column.numeric_column('capital-gain'),\n",
    "    tf.feature_column.numeric_column('capital-loss'),\n",
    "    tf.feature_column.numeric_column('hours-per-week')\n",
    "    \n",
    "]"
   ]
  },
  {
   "cell_type": "markdown",
   "metadata": {},
   "source": [
    "##### train a DNN"
   ]
  },
  {
   "cell_type": "code",
   "execution_count": 150,
   "metadata": {},
   "outputs": [
    {
     "name": "stdout",
     "output_type": "stream",
     "text": [
      "INFO:tensorflow:Using default config.\n",
      "INFO:tensorflow:Using config: {'_model_dir': 'graphs/dnn', '_tf_random_seed': None, '_save_summary_steps': 100, '_save_checkpoints_steps': None, '_save_checkpoints_secs': 600, '_session_config': None, '_keep_checkpoint_max': 5, '_keep_checkpoint_every_n_hours': 10000, '_log_step_count_steps': 100, '_train_distribute': None, '_device_fn': None, '_service': None, '_cluster_spec': <tensorflow.python.training.server_lib.ClusterSpec object at 0x00000231A60027B8>, '_task_type': 'worker', '_task_id': 0, '_global_id_in_cluster': 0, '_master': '', '_evaluation_master': '', '_is_chief': True, '_num_ps_replicas': 0, '_num_worker_replicas': 1}\n"
     ]
    }
   ],
   "source": [
    "estimator = tf.estimator.DNNClassifier(hidden_units=[256,128,64],\n",
    "                                       feature_columns=feature_columns,\n",
    "                                       n_classes=2,\n",
    "                                      model_dir=\"graphs/dnn\")"
   ]
  },
  {
   "cell_type": "code",
   "execution_count": 151,
   "metadata": {},
   "outputs": [
    {
     "name": "stdout",
     "output_type": "stream",
     "text": [
      "INFO:tensorflow:Calling model_fn.\n",
      "INFO:tensorflow:Done calling model_fn.\n",
      "INFO:tensorflow:Create CheckpointSaverHook.\n",
      "INFO:tensorflow:Graph was finalized.\n",
      "INFO:tensorflow:Running local_init_op.\n",
      "INFO:tensorflow:Done running local_init_op.\n",
      "INFO:tensorflow:Saving checkpoints for 0 into graphs/dnn\\model.ckpt.\n",
      "INFO:tensorflow:loss = 128.25418, step = 1\n",
      "INFO:tensorflow:global_step/sec: 187.968\n",
      "INFO:tensorflow:loss = 16.363972, step = 101 (0.536 sec)\n",
      "INFO:tensorflow:global_step/sec: 258.063\n",
      "INFO:tensorflow:loss = 15.151709, step = 201 (0.392 sec)\n",
      "INFO:tensorflow:global_step/sec: 225.732\n",
      "INFO:tensorflow:loss = 21.3796, step = 301 (0.443 sec)\n",
      "INFO:tensorflow:global_step/sec: 228.57\n",
      "INFO:tensorflow:loss = 15.638337, step = 401 (0.445 sec)\n",
      "INFO:tensorflow:global_step/sec: 256.081\n",
      "INFO:tensorflow:loss = 14.02853, step = 501 (0.383 sec)\n",
      "INFO:tensorflow:global_step/sec: 258.062\n",
      "INFO:tensorflow:loss = 29.52417, step = 601 (0.391 sec)\n",
      "INFO:tensorflow:global_step/sec: 253.484\n",
      "INFO:tensorflow:loss = 6.8284245, step = 701 (0.387 sec)\n",
      "INFO:tensorflow:global_step/sec: 267.735\n",
      "INFO:tensorflow:loss = 6.321036, step = 801 (0.374 sec)\n",
      "INFO:tensorflow:global_step/sec: 262.121\n",
      "INFO:tensorflow:loss = 10.818135, step = 901 (0.382 sec)\n",
      "INFO:tensorflow:global_step/sec: 262.122\n",
      "INFO:tensorflow:loss = 11.879404, step = 1001 (0.384 sec)\n",
      "INFO:tensorflow:global_step/sec: 208.766\n",
      "INFO:tensorflow:loss = 8.0115595, step = 1101 (0.479 sec)\n",
      "INFO:tensorflow:global_step/sec: 227.79\n",
      "INFO:tensorflow:loss = 6.6290684, step = 1201 (0.437 sec)\n",
      "INFO:tensorflow:global_step/sec: 259.738\n",
      "INFO:tensorflow:loss = 6.294106, step = 1301 (0.391 sec)\n",
      "INFO:tensorflow:global_step/sec: 244.199\n",
      "INFO:tensorflow:loss = 9.19763, step = 1401 (0.404 sec)\n",
      "INFO:tensorflow:global_step/sec: 244.498\n",
      "INFO:tensorflow:loss = 27.288689, step = 1501 (0.413 sec)\n",
      "INFO:tensorflow:global_step/sec: 228.048\n",
      "INFO:tensorflow:loss = 13.881191, step = 1601 (0.446 sec)\n",
      "INFO:tensorflow:global_step/sec: 225.988\n",
      "INFO:tensorflow:loss = 33.285267, step = 1701 (0.442 sec)\n",
      "INFO:tensorflow:global_step/sec: 203.249\n",
      "INFO:tensorflow:loss = 11.325439, step = 1801 (0.483 sec)\n",
      "INFO:tensorflow:global_step/sec: 263.158\n",
      "INFO:tensorflow:loss = 11.604334, step = 1901 (0.380 sec)\n",
      "INFO:tensorflow:Saving checkpoints for 2000 into graphs/dnn\\model.ckpt.\n",
      "INFO:tensorflow:Loss for final step: 13.328637.\n"
     ]
    },
    {
     "data": {
      "text/plain": [
       "<tensorflow.python.estimator.canned.dnn.DNNClassifier at 0x231a58ca3c8>"
      ]
     },
     "execution_count": 151,
     "metadata": {},
     "output_type": "execute_result"
    }
   ],
   "source": [
    "train_input_fn = create_train_input_fn()\n",
    "estimator.train(train_input_fn,steps =2000)"
   ]
  },
  {
   "cell_type": "code",
   "execution_count": 152,
   "metadata": {},
   "outputs": [
    {
     "name": "stdout",
     "output_type": "stream",
     "text": [
      "INFO:tensorflow:Calling model_fn.\n",
      "WARNING:tensorflow:Trapezoidal rule is known to produce incorrect PR-AUCs; please switch to \"careful_interpolation\" instead.\n",
      "WARNING:tensorflow:Trapezoidal rule is known to produce incorrect PR-AUCs; please switch to \"careful_interpolation\" instead.\n",
      "INFO:tensorflow:Done calling model_fn.\n",
      "INFO:tensorflow:Starting evaluation at 2019-02-11-08:04:43\n",
      "INFO:tensorflow:Graph was finalized.\n",
      "INFO:tensorflow:Restoring parameters from graphs/dnn\\model.ckpt-2000\n",
      "INFO:tensorflow:Running local_init_op.\n",
      "INFO:tensorflow:Done running local_init_op.\n",
      "INFO:tensorflow:Evaluation [100/1000]\n",
      "INFO:tensorflow:Evaluation [200/1000]\n",
      "INFO:tensorflow:Evaluation [300/1000]\n",
      "INFO:tensorflow:Evaluation [400/1000]\n",
      "INFO:tensorflow:Evaluation [500/1000]\n",
      "INFO:tensorflow:Finished evaluation at 2019-02-11-08:04:48\n",
      "INFO:tensorflow:Saving dict for global step 2000: accuracy = 0.84896505, accuracy_baseline = 0.76377374, auc = 0.9002356, auc_precision_recall = 0.75125724, average_loss = 0.3295633, global_step = 2000, label/mean = 0.23622628, loss = 10.541493, precision = 0.7113685, prediction/mean = 0.25303918, recall = 0.6068643\n",
      "INFO:tensorflow:Saving 'checkpoint_path' summary for global step 2000: graphs/dnn\\model.ckpt-2000\n"
     ]
    },
    {
     "data": {
      "text/plain": [
       "{'accuracy': 0.84896505,\n",
       " 'accuracy_baseline': 0.76377374,\n",
       " 'auc': 0.9002356,\n",
       " 'auc_precision_recall': 0.75125724,\n",
       " 'average_loss': 0.3295633,\n",
       " 'label/mean': 0.23622628,\n",
       " 'loss': 10.541493,\n",
       " 'precision': 0.7113685,\n",
       " 'prediction/mean': 0.25303918,\n",
       " 'recall': 0.6068643,\n",
       " 'global_step': 2000}"
      ]
     },
     "execution_count": 152,
     "metadata": {},
     "output_type": "execute_result"
    }
   ],
   "source": [
    "test_input_fn = create_test_input_fn()\n",
    "estimator.evaluate(test_input_fn,steps=1000)"
   ]
  },
  {
   "cell_type": "markdown",
   "metadata": {},
   "source": [
    "The performance has improved"
   ]
  },
  {
   "cell_type": "code",
   "execution_count": null,
   "metadata": {},
   "outputs": [],
   "source": []
  }
 ],
 "metadata": {
  "kernelspec": {
   "display_name": "py36_tf",
   "language": "python",
   "name": "py36_tf"
  },
  "language_info": {
   "codemirror_mode": {
    "name": "ipython",
    "version": 3
   },
   "file_extension": ".py",
   "mimetype": "text/x-python",
   "name": "python",
   "nbconvert_exporter": "python",
   "pygments_lexer": "ipython3",
   "version": "3.6.6"
  }
 },
 "nbformat": 4,
 "nbformat_minor": 2
}
